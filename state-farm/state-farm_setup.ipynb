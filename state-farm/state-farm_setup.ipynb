{
 "cells": [
  {
   "cell_type": "code",
   "execution_count": 1,
   "metadata": {
    "collapsed": false,
    "deletable": true,
    "editable": true
   },
   "outputs": [
    {
     "name": "stdout",
     "output_type": "stream",
     "text": [
      "/home/pierre/state-farm\r\n"
     ]
    }
   ],
   "source": [
    "! pwd"
   ]
  },
  {
   "cell_type": "code",
   "execution_count": 2,
   "metadata": {
    "collapsed": false,
    "deletable": true,
    "editable": true
   },
   "outputs": [],
   "source": [
    "HOME_DIR = %pwd\n",
    "DATA_DIR = '/home/pierre/data/'"
   ]
  },
  {
   "cell_type": "markdown",
   "metadata": {
    "deletable": true,
    "editable": true
   },
   "source": [
    "## Récupération des données depuis kaggle"
   ]
  },
  {
   "cell_type": "markdown",
   "metadata": {
    "deletable": true,
    "editable": true
   },
   "source": [
    "### Kaggle-cli"
   ]
  },
  {
   "cell_type": "code",
   "execution_count": 1,
   "metadata": {
    "collapsed": true,
    "deletable": true,
    "editable": true
   },
   "outputs": [
    {
     "name": "stdout",
     "output_type": "stream",
     "text": [
      "Requirement already satisfied: kaggle-cli in /home/pierre/anaconda3/lib/python3.6/site-packages\n",
      "Requirement already satisfied: progressbar2 in /home/pierre/anaconda3/lib/python3.6/site-packages (from kaggle-cli)\n",
      "Requirement already satisfied: cssselect in /home/pierre/anaconda3/lib/python3.6/site-packages (from kaggle-cli)\n",
      "Requirement already satisfied: MechanicalSoup in /home/pierre/anaconda3/lib/python3.6/site-packages (from kaggle-cli)\n",
      "Requirement already satisfied: configparser in /home/pierre/anaconda3/lib/python3.6/site-packages (from kaggle-cli)\n",
      "Requirement already satisfied: cliff in /home/pierre/anaconda3/lib/python3.6/site-packages (from kaggle-cli)\n",
      "Requirement already satisfied: lxml in /home/pierre/anaconda3/lib/python3.6/site-packages (from kaggle-cli)\n",
      "Requirement already satisfied: python-utils>=2.0.0 in /home/pierre/anaconda3/lib/python3.6/site-packages (from progressbar2->kaggle-cli)\n",
      "Requirement already satisfied: six>=1.4 in /home/pierre/anaconda3/lib/python3.6/site-packages (from MechanicalSoup->kaggle-cli)\n",
      "Requirement already satisfied: requests>=2.0 in /home/pierre/anaconda3/lib/python3.6/site-packages (from MechanicalSoup->kaggle-cli)\n",
      "Requirement already satisfied: beautifulsoup4 in /home/pierre/anaconda3/lib/python3.6/site-packages (from MechanicalSoup->kaggle-cli)\n",
      "Requirement already satisfied: stevedore>=1.20.0 in /home/pierre/anaconda3/lib/python3.6/site-packages (from cliff->kaggle-cli)\n",
      "Requirement already satisfied: cmd2>=0.6.7 in /home/pierre/anaconda3/lib/python3.6/site-packages (from cliff->kaggle-cli)\n",
      "Requirement already satisfied: PrettyTable<0.8,>=0.7.1 in /home/pierre/anaconda3/lib/python3.6/site-packages (from cliff->kaggle-cli)\n",
      "Requirement already satisfied: pbr!=2.1.0,>=2.0.0 in /home/pierre/anaconda3/lib/python3.6/site-packages (from cliff->kaggle-cli)\n",
      "Requirement already satisfied: pyparsing>=2.1.0 in /home/pierre/anaconda3/lib/python3.6/site-packages (from cliff->kaggle-cli)\n",
      "Requirement already satisfied: PyYAML>=3.10.0 in /home/pierre/anaconda3/lib/python3.6/site-packages (from cliff->kaggle-cli)\n"
     ]
    }
   ],
   "source": [
    "! pip install kaggle-cli"
   ]
  },
  {
   "cell_type": "code",
   "execution_count": 15,
   "metadata": {
    "collapsed": false,
    "deletable": true,
    "editable": true
   },
   "outputs": [],
   "source": [
    "! kg config -g -u 'Punderscore' -p \"'F_Rt_67]\\J5+p*JXwvu\" -c 'state-farm-distracted-driver-detection'"
   ]
  },
  {
   "cell_type": "code",
   "execution_count": 3,
   "metadata": {
    "collapsed": false,
    "deletable": true,
    "editable": true
   },
   "outputs": [
    {
     "name": "stdout",
     "output_type": "stream",
     "text": [
      "downloading https://www.kaggle.com/c/state-farm-distracted-driver-detection/download/sample_submission.csv.zip\n",
      "\n",
      "sample_submission.csv.zip 100% |#####################| Time: 0:00:00 213.4 KiB/s\n",
      "downloading https://www.kaggle.com/c/state-farm-distracted-driver-detection/download/imgs.zip\n",
      "\n",
      "imgs.zip 100% |######################################| Time: 0:06:21  10.7 MiB/s\n",
      "downloading https://www.kaggle.com/c/state-farm-distracted-driver-detection/download/driver_imgs_list.csv.zip\n",
      "\n",
      "driver_imgs_list.csv.zip 100% |######################| Time: 0:00:00 229.7 KiB/s\n"
     ]
    }
   ],
   "source": [
    "! kg download"
   ]
  },
  {
   "cell_type": "markdown",
   "metadata": {
    "deletable": true,
    "editable": true
   },
   "source": [
    "### Traitements"
   ]
  },
  {
   "cell_type": "code",
   "execution_count": 4,
   "metadata": {
    "collapsed": false,
    "deletable": true,
    "editable": true
   },
   "outputs": [
    {
     "name": "stdout",
     "output_type": "stream",
     "text": [
      "Archive:  sample_submission.csv.zip\r\n",
      "caution: filename not matched:  driver_imgs_list.csv.zip\r\n"
     ]
    }
   ],
   "source": [
    "! unzip sample_submission.csv.zip\n",
    "! unzip driver_imgs_list.csv.zip\n",
    "! rm sample_submission.csv.zip driver_imgs_list.csv.zip"
   ]
  },
  {
   "cell_type": "code",
   "execution_count": 5,
   "metadata": {
    "collapsed": true,
    "deletable": true,
    "editable": true
   },
   "outputs": [],
   "source": [
    "! unzip -q imgs.zip\n",
    "! rm imgs.zip"
   ]
  },
  {
   "cell_type": "code",
   "execution_count": 6,
   "metadata": {
    "collapsed": false,
    "deletable": true,
    "editable": true
   },
   "outputs": [
    {
     "name": "stdout",
     "output_type": "stream",
     "text": [
      "/home/pierre/state-farm/statefarm\n"
     ]
    }
   ],
   "source": [
    "! mkdir statefarm\n",
    "! mv test/ train/ statefarm/\n",
    "%cd statefarm\n",
    "! mkdir models sample valid\n",
    "! mkdir sample/train sample/valid"
   ]
  },
  {
   "cell_type": "code",
   "execution_count": 7,
   "metadata": {
    "collapsed": false,
    "deletable": true,
    "editable": true
   },
   "outputs": [
    {
     "name": "stdout",
     "output_type": "stream",
     "text": [
      "/home/pierre/state-farm/statefarm/sample/train\n",
      "/home/pierre/state-farm/statefarm/sample/valid\n",
      "/home/pierre/state-farm/statefarm/valid\n"
     ]
    }
   ],
   "source": [
    "%cd sample/train/\n",
    "! mkdir `ls ../../train/`\n",
    "%cd ../valid/\n",
    "! mkdir `ls ../../train/`\n",
    "\n",
    "%cd ../../valid/\n",
    "! mkdir `ls ../train/`"
   ]
  },
  {
   "cell_type": "code",
   "execution_count": 12,
   "metadata": {
    "collapsed": false,
    "deletable": true,
    "editable": true
   },
   "outputs": [
    {
     "name": "stdout",
     "output_type": "stream",
     "text": [
      "/home/pierre/state-farm\n"
     ]
    }
   ],
   "source": [
    "%cd $HOME_DIR\n",
    "! mv statefarm $DATA_DIR"
   ]
  },
  {
   "cell_type": "code",
   "execution_count": 3,
   "metadata": {
    "collapsed": true
   },
   "outputs": [],
   "source": [
    "DATA_DIR = DATA_DIR+'statefarm/'"
   ]
  },
  {
   "cell_type": "markdown",
   "metadata": {
    "deletable": true,
    "editable": true
   },
   "source": [
    "#### Choix de sous-ensembles pour la validation"
   ]
  },
  {
   "cell_type": "code",
   "execution_count": 5,
   "metadata": {
    "collapsed": false,
    "deletable": true,
    "editable": true
   },
   "outputs": [
    {
     "name": "stdout",
     "output_type": "stream",
     "text": [
      "/home/pierre/data/statefarm/train\n"
     ]
    }
   ],
   "source": [
    "%cd $DATA_DIR'train/'"
   ]
  },
  {
   "cell_type": "code",
   "execution_count": 18,
   "metadata": {
    "collapsed": false,
    "deletable": true,
    "editable": true
   },
   "outputs": [
    {
     "name": "stdout",
     "output_type": "stream",
     "text": [
      "231\n",
      "/home/pierre/data/statefarm/train/c5\n",
      "232\n",
      "/home/pierre/data/statefarm/train/c4\n",
      "231\n",
      "/home/pierre/data/statefarm/train/c2\n",
      "234\n",
      "/home/pierre/data/statefarm/train/c3\n",
      "191\n",
      "/home/pierre/data/statefarm/train/c8\n",
      "226\n",
      "/home/pierre/data/statefarm/train/c1\n",
      "232\n",
      "/home/pierre/data/statefarm/train/c6\n",
      "213\n",
      "/home/pierre/data/statefarm/train/c9\n",
      "249\n",
      "/home/pierre/data/statefarm/train/c0\n",
      "200\n",
      "/home/pierre/data/statefarm/train/c7\n"
     ]
    }
   ],
   "source": [
    "! for D in `find . ! -path . -type d`; do cd $D; nombre=$((`ls -l | wc -l`/10)) ; echo $nombre; pwd; mv `ls | sort -R | tail -$nombre` ../../valid/$D; cd ..; done"
   ]
  },
  {
   "cell_type": "code",
   "execution_count": 19,
   "metadata": {
    "collapsed": false
   },
   "outputs": [
    {
     "data": {
      "text/plain": [
       "u'/home/pierre/data/statefarm/train'"
      ]
     },
     "execution_count": 19,
     "metadata": {},
     "output_type": "execute_result"
    }
   ],
   "source": [
    "%pwd"
   ]
  },
  {
   "cell_type": "markdown",
   "metadata": {
    "deletable": true,
    "editable": true
   },
   "source": [
    "#### Choix de sous-ensembles pour l'échantillonnage"
   ]
  },
  {
   "cell_type": "code",
   "execution_count": 20,
   "metadata": {
    "collapsed": false
   },
   "outputs": [
    {
     "name": "stdout",
     "output_type": "stream",
     "text": [
      "/home/pierre/data/statefarm/train/c5\n",
      "/home/pierre/data/statefarm/train/c4\n",
      "/home/pierre/data/statefarm/train/c2\n",
      "/home/pierre/data/statefarm/train/c3\n",
      "/home/pierre/data/statefarm/train/c8\n",
      "/home/pierre/data/statefarm/train/c1\n",
      "/home/pierre/data/statefarm/train/c6\n",
      "/home/pierre/data/statefarm/train/c9\n",
      "/home/pierre/data/statefarm/train/c0\n",
      "/home/pierre/data/statefarm/train/c7\n",
      "/home/pierre/data/statefarm/valid\n",
      "/home/pierre/data/statefarm/valid/c5\n",
      "/home/pierre/data/statefarm/valid/c4\n",
      "/home/pierre/data/statefarm/valid/c2\n",
      "/home/pierre/data/statefarm/valid/c3\n",
      "/home/pierre/data/statefarm/valid/c8\n",
      "/home/pierre/data/statefarm/valid/c1\n",
      "/home/pierre/data/statefarm/valid/c6\n",
      "/home/pierre/data/statefarm/valid/c9\n",
      "/home/pierre/data/statefarm/valid/c0\n",
      "/home/pierre/data/statefarm/valid/c7\n"
     ]
    }
   ],
   "source": [
    "! for D in `find . ! -path . -type d`; do cd $D; pwd; cp `ls | sort -R | tail -50` ../../sample/train/$D; cd ..; done\n",
    "%cd ../valid/\n",
    "! for D in `find . ! -path . -type d`; do cd $D; pwd; cp `ls | sort -R | tail -20` ../../sample/valid/$D; cd ..; done\n"
   ]
  },
  {
   "cell_type": "code",
   "execution_count": 3,
   "metadata": {
    "collapsed": false,
    "deletable": true,
    "editable": true
   },
   "outputs": [
    {
     "name": "stdout",
     "output_type": "stream",
     "text": [
      "/media/HDD/Documents/Études_extrascolaires/fastAI/lesson2/from_scratch/data/train/cats\n",
      "/media/HDD/Documents/Études_extrascolaires/fastAI/lesson2/from_scratch/data/train/dogs\n",
      "/media/HDD/Documents/Études_extrascolaires/fastAI/lesson2/from_scratch/data/valid/cats\n",
      "/media/HDD/Documents/Études_extrascolaires/fastAI/lesson2/from_scratch/data/valid/dogs\n"
     ]
    }
   ],
   "source": [
    "\n",
    "\n",
    "%cd $DATA_DIR/train/cats\n",
    "! cp `ls | sort -R | tail -200` $DATA_DIR/sample/train/cats\n",
    "%cd $DATA_DIR/train/dogs\n",
    "! cp `ls | sort -R | tail -200` $DATA_DIR/sample/train/dogs\n",
    "%cd $DATA_DIR/valid/cats\n",
    "! cp `ls | sort -R | tail -80` $DATA_DIR/sample/valid/cats\n",
    "%cd $DATA_DIR/valid/dogs\n",
    "! cp `ls | sort -R | tail -80` $DATA_DIR/sample/valid/dogs"
   ]
  },
  {
   "cell_type": "code",
   "execution_count": null,
   "metadata": {
    "collapsed": true,
    "deletable": true,
    "editable": true
   },
   "outputs": [],
   "source": []
  }
 ],
 "metadata": {
  "anaconda-cloud": {},
  "kernelspec": {
   "display_name": "Python [default]",
   "language": "python",
   "name": "python2"
  },
  "language_info": {
   "codemirror_mode": {
    "name": "ipython",
    "version": 2
   },
   "file_extension": ".py",
   "mimetype": "text/x-python",
   "name": "python",
   "nbconvert_exporter": "python",
   "pygments_lexer": "ipython2",
   "version": "2.7.13"
  }
 },
 "nbformat": 4,
 "nbformat_minor": 2
}
